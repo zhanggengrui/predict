{
  "nbformat": 4,
  "nbformat_minor": 0,
  "metadata": {
    "kernelspec": {
      "name": "python3",
      "display_name": "Python 3"
    },
    "language_info": {
      "codemirror_mode": {
        "name": "ipython",
        "version": 3
      },
      "file_extension": ".py",
      "mimetype": "text/x-python",
      "name": "python",
      "nbconvert_exporter": "python",
      "pygments_lexer": "ipython3",
      "version": "3.7.4"
    },
    "colab": {
      "name": "api_call_sequence_detection_gcn.ipynb",
      "provenance": [],
      "collapsed_sections": []
    },
    "accelerator": "GPU"
  },
  "cells": [
    {
      "cell_type": "markdown",
      "metadata": {
        "id": "4V78EPX2TBo8",
        "colab_type": "text"
      },
      "source": [
        "### 使用GCN和LSTM对API call sequence进行malware检测\n",
        "\n"
      ]
    },
    {
      "cell_type": "code",
      "metadata": {
        "id": "IZQTKiRITBpA",
        "colab_type": "code",
        "outputId": "27c43b8c-d7f7-4c50-bfee-53efe6212bc3",
        "colab": {
          "base_uri": "https://localhost:8080/",
          "height": 133
        }
      },
      "source": [
        "!pip install skorch\n",
        "\n",
        "import numpy as np\n",
        "SEED = 137\n",
        "np.random.seed(SEED)\n",
        "\n",
        "import time\n",
        "from collections import Counter\n",
        "\n",
        "import pandas as pd\n",
        "\n",
        "from sklearn.model_selection import train_test_split\n",
        "from sklearn.metrics import accuracy_score, recall_score, confusion_matrix\n",
        "from sklearn.metrics import precision_score, f1_score, roc_auc_score, roc_curve\n",
        "from sklearn import decomposition\n",
        "\n",
        "from imblearn.under_sampling import RandomUnderSampler\n",
        "from imblearn.pipeline import Pipeline\n",
        "\n",
        "import torch\n",
        "torch.manual_seed(SEED)\n",
        "import torch.nn as nn\n",
        "import torch.nn.functional as F\n",
        "\n",
        "from skorch.classifier import NeuralNetBinaryClassifier\n",
        "\n",
        "import matplotlib.pyplot as plt\n",
        "from matplotlib import pyplot"
      ],
      "execution_count": 253,
      "outputs": [
        {
          "output_type": "stream",
          "text": [
            "Requirement already satisfied: skorch in /usr/local/lib/python3.6/dist-packages (0.7.0)\n",
            "Requirement already satisfied: tqdm>=4.14.0 in /usr/local/lib/python3.6/dist-packages (from skorch) (4.28.1)\n",
            "Requirement already satisfied: tabulate>=0.7.7 in /usr/local/lib/python3.6/dist-packages (from skorch) (0.8.6)\n",
            "Requirement already satisfied: scikit-learn>=0.19.1 in /usr/local/lib/python3.6/dist-packages (from skorch) (0.21.3)\n",
            "Requirement already satisfied: numpy>=1.13.3 in /usr/local/lib/python3.6/dist-packages (from skorch) (1.17.4)\n",
            "Requirement already satisfied: scipy>=1.1.0 in /usr/local/lib/python3.6/dist-packages (from skorch) (1.3.3)\n",
            "Requirement already satisfied: joblib>=0.11 in /usr/local/lib/python3.6/dist-packages (from scikit-learn>=0.19.1->skorch) (0.14.1)\n"
          ],
          "name": "stdout"
        }
      ]
    },
    {
      "cell_type": "markdown",
      "metadata": {
        "id": "dSPklObHTBpF",
        "colab_type": "text"
      },
      "source": [
        "### 数据预处理\n"
      ]
    },
    {
      "cell_type": "code",
      "metadata": {
        "id": "K_lBEgL3TBpG",
        "colab_type": "code",
        "outputId": "ad8f8483-d3cb-42a1-ed75-f084cc854eda",
        "colab": {
          "base_uri": "https://localhost:8080/",
          "height": 166
        }
      },
      "source": [
        "from google.colab import drive\n",
        "drive.mount('/content/drive')\n",
        "import os\n",
        "os.chdir(\"/content/drive/My Drive/Colab Notebooks/L14/\")\n",
        "# 数据加载\n",
        "df = pd.read_csv('dynamic_api_call_sequence_per_malware_100_0_306.csv')\n",
        "print(df.head())"
      ],
      "execution_count": 254,
      "outputs": [
        {
          "output_type": "stream",
          "text": [
            "Drive already mounted at /content/drive; to attempt to forcibly remount, call drive.mount(\"/content/drive\", force_remount=True).\n",
            "                               hash  t_0  t_1  t_2  ...  t_97  t_98  t_99  malware\n",
            "0  071e8c3f8922e186e57548cd4c703a5d  112  274  158  ...   208    56    71        1\n",
            "1  33f8e6d08a6aae939f25a8e0d63dd523   82  208  187  ...   171   215    35        1\n",
            "2  b68abd064e975e1c6d5f25e748663076   16  110  240  ...    65   113   112        1\n",
            "3  72049be7bd30ea61297ea624ae198067   82  208  187  ...   302   228   302        1\n",
            "4  c9b3700a77facf29172f32df6bc77f48   82  240  117  ...   260   141   260        1\n",
            "\n",
            "[5 rows x 102 columns]\n"
          ],
          "name": "stdout"
        }
      ]
    },
    {
      "cell_type": "code",
      "metadata": {
        "id": "R_D7YfbRTBpL",
        "colab_type": "code",
        "outputId": "dcf22630-78ae-4342-8417-5cc823b1c402",
        "colab": {
          "base_uri": "https://localhost:8080/",
          "height": 100
        }
      },
      "source": [
        "df.info()"
      ],
      "execution_count": 255,
      "outputs": [
        {
          "output_type": "stream",
          "text": [
            "<class 'pandas.core.frame.DataFrame'>\n",
            "RangeIndex: 43876 entries, 0 to 43875\n",
            "Columns: 102 entries, hash to malware\n",
            "dtypes: int64(101), object(1)\n",
            "memory usage: 34.1+ MB\n"
          ],
          "name": "stdout"
        }
      ]
    },
    {
      "cell_type": "code",
      "metadata": {
        "id": "YEfbx5JeTBpP",
        "colab_type": "code",
        "outputId": "fd008e48-12ee-4436-9b76-a87586de036c",
        "colab": {
          "base_uri": "https://localhost:8080/",
          "height": 50
        }
      },
      "source": [
        "# 得到特征X和目标y\n",
        "X = df.drop(['hash', 'malware'], axis = 1).values.astype(int)\n",
        "y = df['malware'].values.astype(int)\n",
        "print(X.shape)\n",
        "print(y.shape)"
      ],
      "execution_count": 256,
      "outputs": [
        {
          "output_type": "stream",
          "text": [
            "(43876, 100)\n",
            "(43876,)\n"
          ],
          "name": "stdout"
        }
      ]
    },
    {
      "cell_type": "code",
      "metadata": {
        "id": "G4OeSFxmTBpT",
        "colab_type": "code",
        "outputId": "7d97b300-412e-4388-c252-e1a18a9350d1",
        "colab": {
          "base_uri": "https://localhost:8080/",
          "height": 50
        }
      },
      "source": [
        "# 数据探索，说明X特征矩阵取值为0-306\n",
        "print(X.min())\n",
        "print(X.max())"
      ],
      "execution_count": 257,
      "outputs": [
        {
          "output_type": "stream",
          "text": [
            "0\n",
            "306\n"
          ],
          "name": "stdout"
        }
      ]
    },
    {
      "cell_type": "code",
      "metadata": {
        "id": "H0xQC_d3TBpX",
        "colab_type": "code",
        "colab": {}
      },
      "source": [
        "# 检查样本是否均匀\n",
        "def check_imbalance(dataset):\n",
        "    count = sorted(Counter(dataset).items())\n",
        "    print(count)\n",
        "    print(count[1][1] / count[0][1])\n",
        "    return"
      ],
      "execution_count": 0,
      "outputs": []
    },
    {
      "cell_type": "code",
      "metadata": {
        "id": "jIOwbAWJTBpZ",
        "colab_type": "code",
        "outputId": "1a60c560-928a-46b2-fb9a-d360842f12d9",
        "colab": {
          "base_uri": "https://localhost:8080/",
          "height": 50
        }
      },
      "source": [
        "check_imbalance(y)"
      ],
      "execution_count": 259,
      "outputs": [
        {
          "output_type": "stream",
          "text": [
            "[(0, 1079), (1, 42797)]\n",
            "39.66357738646895\n"
          ],
          "name": "stdout"
        }
      ]
    },
    {
      "cell_type": "code",
      "metadata": {
        "id": "vIAK6D-rTBpb",
        "colab_type": "code",
        "colab": {}
      },
      "source": [
        "# 训练集70%，测试集30%\n",
        "X_train, X_test, y_train, y_test = train_test_split(X, y, test_size = 0.3, random_state = SEED)"
      ],
      "execution_count": 0,
      "outputs": []
    },
    {
      "cell_type": "code",
      "metadata": {
        "id": "cqZo_PwqTBpd",
        "colab_type": "code",
        "outputId": "5250633a-61fe-4def-86a1-1d2ebaf18259",
        "colab": {
          "base_uri": "https://localhost:8080/",
          "height": 83
        }
      },
      "source": [
        "check_imbalance(y_train)\n",
        "check_imbalance(y_test)\n",
        "# 释放不用的变量\n",
        "del df, X, y"
      ],
      "execution_count": 261,
      "outputs": [
        {
          "output_type": "stream",
          "text": [
            "[(0, 731), (1, 29982)]\n",
            "41.015047879616965\n",
            "[(0, 348), (1, 12815)]\n",
            "36.82471264367816\n"
          ],
          "name": "stdout"
        }
      ]
    },
    {
      "cell_type": "markdown",
      "metadata": {
        "id": "almhu3fDTBpf",
        "colab_type": "text"
      },
      "source": [
        "#### 定义GCN模型\n"
      ]
    },
    {
      "cell_type": "code",
      "metadata": {
        "id": "BvA5-2J2TBpg",
        "colab_type": "code",
        "colab": {}
      },
      "source": [
        "# 计算邻近矩阵A和D矩阵\n",
        "def norn_adj(X, input_dim_1):\n",
        "    # batch_size, input_dim_1, input_dim_1\n",
        "    temp = X.cpu().numpy()\n",
        "    A_adj = np.zeros([X.size(0), input_dim_1, input_dim_1])\n",
        "\n",
        "    for i in range(temp.shape[0]):\n",
        "      for j in range(temp.shape[1]):\n",
        "        x1 = int(temp[i,j])\n",
        "        if j!=(temp.shape[1]-1):\n",
        "          x2 = int(temp[i,j+1])\n",
        "          A_adj[i][x1][x2] = 1.0\n",
        "          #print(A_adj[i][x1][x2])\n",
        "    A = torch.from_numpy(A_adj).float().cuda()\n",
        "\n",
        "    # A_hat为A和单位矩阵之和\n",
        "    A_hat = A + torch.eye(input_dim_1, dtype = torch.float).cuda()\n",
        "    D_hat = A_hat.sum(dim = 1).pow(-1.0).diag_embed()    \n",
        "    return A_hat, D_hat\n",
        "\n",
        "# 对X进行one_hot特征提取\n",
        "def to_one_hot(X, input_dim_1):    \n",
        "    X = F.one_hot(X, num_classes = input_dim_1).float()    \n",
        "    X = X.permute(0, 2, 1)    \n",
        "    return X\n",
        "\n",
        "class GCN_network(nn.Module):    \n",
        "    def __init__(self, weight_dim_1, weight_dim_2):\n",
        "        super(GCN_network, self).__init__()\n",
        "        self.weight_dim_1 = weight_dim_1\n",
        "        self.weight_dim_2 = weight_dim_2        \n",
        "        # 权重随机生成，y=wx+b里那个w\n",
        "        self.weights = nn.Parameter(torch.rand((self.weight_dim_1, weight_dim_2), dtype = torch.float, requires_grad = True))\n",
        "        \n",
        "    def forward(self, A_hat, D_hat, X):\n",
        "        return D_hat.matmul(A_hat).matmul(X).matmul(self.weights)"
      ],
      "execution_count": 0,
      "outputs": []
    },
    {
      "cell_type": "markdown",
      "metadata": {
        "id": "bphuZpLXTBpi",
        "colab_type": "text"
      },
      "source": [
        "#### 定义GCN网络(model_1)\n"
      ]
    },
    {
      "cell_type": "code",
      "metadata": {
        "id": "07mD5bqXTBpi",
        "colab_type": "code",
        "colab": {}
      },
      "source": [
        "# 使用1层GCN层\n",
        "H_list_model_1 = []\n",
        "class Model_1_network(nn.Module):    \n",
        "    def __init__(self, input_dim_1, input_dim_2, weight_dim_2, dropout_rate):        \n",
        "        super(Model_1_network, self).__init__()\n",
        "        self.input_dim_1 = input_dim_1\n",
        "        self.input_dim_2 = input_dim_2\n",
        "        self.weight_dim_1 = input_dim_2\n",
        "        self.weight_dim_2 = weight_dim_2\n",
        "        self.dropout_rate = dropout_rate\n",
        "        # 定义GCN层，AX其实理解成X中每个节点对周围的加权，然后再过线性变换\n",
        "        self.gcn = GCN_network(self.weight_dim_1, self.weight_dim_2)\n",
        "        # 定义dropout\n",
        "        self.dropout = nn.Dropout(p = self.dropout_rate)\n",
        "        # 定义FC层,从隐层到1维\n",
        "        self.fc = nn.Linear(self.input_dim_1 * self.weight_dim_2, 1)\n",
        "    # 前向传播\n",
        "    def forward(self, X):\n",
        "        # 通过X得到A_hat, D_hat\n",
        "        A_hat, D_hat = norn_adj(X, input_dim_1)\n",
        "        X = to_one_hot(X, input_dim_1)\n",
        "        # 将A_hat, D_hat, X作为输入，传入GCN层\n",
        "        H = self.gcn(A_hat, D_hat, X)\n",
        "        H = self.dropout(H)\n",
        "        H = torch.relu(H)\n",
        "        # 变成两维,第一个维度保持不变,后面的很多维全部变成一维\n",
        "        H = H.view(H.size(0), -1)    \n",
        "        # Visualization\n",
        "        if not self.training:\n",
        "            H_list_model_1.append(H.cpu())        \n",
        "        H = self.fc(H)                \n",
        "        return H.squeeze()"
      ],
      "execution_count": 0,
      "outputs": []
    },
    {
      "cell_type": "markdown",
      "metadata": {
        "id": "TBXdejDUTBpn",
        "colab_type": "text"
      },
      "source": [
        "#### 定义LSTM模型"
      ]
    },
    {
      "cell_type": "code",
      "metadata": {
        "id": "cbIPIbITTBpn",
        "colab_type": "code",
        "colab": {}
      },
      "source": [
        "H_list_lstm = []\n",
        "# 定义LSTM\n",
        "class LSTM_network(nn.Module):    \n",
        "    def __init__(self, input_dim, hidden_dim, dropout_rate):        \n",
        "        super(LSTM_network, self).__init__()        \n",
        "        self.input_dim = input_dim\n",
        "        self.hidden_dim = hidden_dim\n",
        "        self.dropout_rate = dropout_rate        \n",
        "        self.lstm = nn.LSTM(self.input_dim, self.hidden_dim, batch_first = True)\n",
        "        self.dropout = nn.Dropout(p = self.dropout_rate)\n",
        "        self.fc = nn.Linear(self.hidden_dim, 1)\n",
        "    # 前向传播\n",
        "    def forward(self, X):       \n",
        "        # 对X进行one_hot特征提取 \n",
        "        X = F.one_hot(X, num_classes = self.input_dim).float().cuda()        \n",
        "        # 隐藏层形状：(num_layers, batch_size, hidden_dim)\n",
        "        hidden_0 = (torch.zeros(1, X.size(0), self.hidden_dim).float().cuda(),\n",
        "                    torch.zeros(1, X.size(0), self.hidden_dim).float().cuda()) \n",
        "        # 输入/输出形状：(batch_size, seq_len, input_dim)\n",
        "        _, self.hidden = self.lstm(X, hidden_0)                \n",
        "        H = self.hidden[0].squeeze()\n",
        "        H = self.dropout(H)\n",
        "        \n",
        "        # 可视化时用到\n",
        "        H_list_lstm.append(H.cpu())        \n",
        "        H = self.fc(H)                \n",
        "        return H.squeeze()"
      ],
      "execution_count": 0,
      "outputs": []
    },
    {
      "cell_type": "markdown",
      "metadata": {
        "id": "gvjq5Kq9TBpp",
        "colab_type": "text"
      },
      "source": [
        "### 模型评估"
      ]
    },
    {
      "cell_type": "code",
      "metadata": {
        "id": "OY0XO2SkTBpq",
        "colab_type": "code",
        "colab": {}
      },
      "source": [
        "# 模型评估\n",
        "def model_evaluate(y, pred):\n",
        "    print('Confusion matrix\\n[TN FP]\\n[FN TP]')\n",
        "    # confusion_matrix(y_true, y_pred)\n",
        "    print(confusion_matrix(y >= 0.5, pred >= 0.5))\n",
        "    print(f'F1-Score: {f1_score(y >= 0.5, pred >= 0.5):.4f}')\n",
        "    print(f'ROC AUC: {roc_auc_score(y, pred):.4f}')\n",
        "    return"
      ],
      "execution_count": 0,
      "outputs": []
    },
    {
      "cell_type": "markdown",
      "metadata": {
        "id": "F5dyyTR3TBpr",
        "colab_type": "text"
      },
      "source": [
        "#### LSTM网络"
      ]
    },
    {
      "cell_type": "code",
      "metadata": {
        "id": "d1heC0pTTBps",
        "colab_type": "code",
        "outputId": "b411e498-4053-4403-cf05-06016fa076f6",
        "colab": {
          "base_uri": "https://localhost:8080/",
          "height": 250
        }
      },
      "source": [
        "torch.manual_seed(SEED)\n",
        "# LSTM超参数设置\n",
        "input_dim = 307\n",
        "hidden_dim = 70\n",
        "dropout_rate = 0.5\n",
        "batch_size = 128\n",
        "max_epochs = 2\n",
        "# 使用LSTM做二分类\n",
        "LSTM = NeuralNetBinaryClassifier(\n",
        "    LSTM_network,\n",
        "    module__input_dim = input_dim,\n",
        "    module__hidden_dim = hidden_dim,\n",
        "    module__dropout_rate = dropout_rate,\n",
        "    batch_size = batch_size,\n",
        "    max_epochs = max_epochs,\n",
        "    train_split = None,\n",
        "    optimizer = torch.optim.Adam,\n",
        "    iterator_train__shuffle = True,\n",
        "    device = 'cuda'\n",
        ")\n",
        "# 定义Pipeline\n",
        "pipe = Pipeline([\n",
        "    ('model', LSTM)\n",
        "])\n",
        "# 使用LSTM进行训练\n",
        "pipe.fit(X_train, y_train.astype(np.float))"
      ],
      "execution_count": 266,
      "outputs": [
        {
          "output_type": "stream",
          "text": [
            "  epoch    train_loss     dur\n",
            "-------  ------------  ------\n",
            "      1        \u001b[36m0.1165\u001b[0m  2.5891\n",
            "      2        \u001b[36m0.0817\u001b[0m  2.5143\n"
          ],
          "name": "stdout"
        },
        {
          "output_type": "execute_result",
          "data": {
            "text/plain": [
              "Pipeline(memory=None,\n",
              "         steps=[('model',\n",
              "                 <class 'skorch.classifier.NeuralNetBinaryClassifier'>[initialized](\n",
              "  module_=LSTM_network(\n",
              "    (lstm): LSTM(307, 70, batch_first=True)\n",
              "    (dropout): Dropout(p=0.5, inplace=False)\n",
              "    (fc): Linear(in_features=70, out_features=1, bias=True)\n",
              "  ),\n",
              "))],\n",
              "         verbose=False)"
            ]
          },
          "metadata": {
            "tags": []
          },
          "execution_count": 266
        }
      ]
    },
    {
      "cell_type": "code",
      "metadata": {
        "id": "Op_b6DqKTBpu",
        "colab_type": "code",
        "outputId": "197647ce-a9f3-4c38-8893-3323ac9dba3d",
        "colab": {
          "base_uri": "https://localhost:8080/",
          "height": 283
        }
      },
      "source": [
        "H_list_lstm.clear()\n",
        "# 得到预测结果\n",
        "X_test_predictions_1 = pipe.predict_proba(X_test)[:,1]\n",
        "model_evaluate(y_test, np.ones(len(y_test)))\n",
        "print(X_test_predictions_1)\n",
        "print(y_test)\n",
        "# 对LSTM预测结果进行评估\n",
        "model_evaluate(y_test, X_test_predictions_1)"
      ],
      "execution_count": 267,
      "outputs": [
        {
          "output_type": "stream",
          "text": [
            "Confusion matrix\n",
            "[TN FP]\n",
            "[FN TP]\n",
            "[[    0   348]\n",
            " [    0 12815]]\n",
            "F1-Score: 0.9866\n",
            "ROC AUC: 0.5000\n",
            "[0.9980738  0.99557084 0.86048406 ... 0.9956494  0.9793529  0.99587256]\n",
            "[1 1 1 ... 1 1 1]\n",
            "Confusion matrix\n",
            "[TN FP]\n",
            "[FN TP]\n",
            "[[   60   288]\n",
            " [    1 12814]]\n",
            "F1-Score: 0.9888\n",
            "ROC AUC: 0.8788\n"
          ],
          "name": "stdout"
        }
      ]
    },
    {
      "cell_type": "code",
      "metadata": {
        "id": "FGHplJdsTBpw",
        "colab_type": "code",
        "outputId": "87e6d09e-6615-45aa-a696-7f161658b0bc",
        "colab": {
          "base_uri": "https://localhost:8080/",
          "height": 264
        }
      },
      "source": [
        "fpr_1, tpr_1, thresholds_1 = roc_curve(y_test, X_test_predictions_1)\n",
        "pyplot.plot([0, 1], [0, 1], linestyle='--')\n",
        "pyplot.plot(fpr_1, tpr_1)\n",
        "pyplot.show()"
      ],
      "execution_count": 268,
      "outputs": [
        {
          "output_type": "display_data",
          "data": {
            "image/png": "[encoded data removed]",
            "text/plain": [
              "<Figure size 432x288 with 1 Axes>"
            ]
          },
          "metadata": {
            "tags": []
          }
        }
      ]
    },
    {
      "cell_type": "code",
      "metadata": {
        "id": "TxsONEYVTBpx",
        "colab_type": "code",
        "colab": {}
      },
      "source": [
        "# 可视化\n",
        "def visualize(X, y, points, n_features):\n",
        "    # points随机排列\n",
        "    points = np.arange(points)\n",
        "    np.random.shuffle(points)\n",
        "    color = ['red' if l == 1 else 'green' for l in y[points]]\n",
        "    for i in range(n_features):\n",
        "        for j in range(n_features):\n",
        "            if j > i:\n",
        "                plt.scatter(X[points, i], X[points, j], color = color)\n",
        "                plt.pause(0.1)\n",
        "    return"
      ],
      "execution_count": 0,
      "outputs": []
    },
    {
      "cell_type": "code",
      "metadata": {
        "id": "gqBJ67X4TBp1",
        "colab_type": "code",
        "colab": {}
      },
      "source": [
        "# 使用PCA压缩到2维，进行可视化\n",
        "def visualize_pca(X, y):\n",
        "    # 归一化\n",
        "    X = X / np.max(X)\n",
        "    # 使用PCA进行压缩\n",
        "    pca = decomposition.PCA(n_components = 2)\n",
        "    # 可视化\n",
        "    visualize(pca.fit_transform(X), y, X.shape[0], 2)\n",
        "    return"
      ],
      "execution_count": 0,
      "outputs": []
    },
    {
      "cell_type": "code",
      "metadata": {
        "id": "5A_P9vgETBp3",
        "colab_type": "code",
        "outputId": "6920e104-c70c-4d5e-825a-6c4e4313677f",
        "colab": {
          "base_uri": "https://localhost:8080/",
          "height": 513
        }
      },
      "source": [
        "visualize_pca(X_test, y_test)\n",
        "result = torch.zeros(1, 70)\n",
        "for i in H_list_lstm:\n",
        "    result = torch.cat([result, i.cpu()], 0)\n",
        "\n",
        "X_result = result.numpy()[1:]\n",
        "visualize_pca(X_result, y_test)"
      ],
      "execution_count": 271,
      "outputs": [
        {
          "output_type": "display_data",
          "data": {
            "image/png": "[encoded data removed]",
            "text/plain": [
              "<Figure size 432x288 with 1 Axes>"
            ]
          },
          "metadata": {
            "tags": []
          }
        },
        {
          "output_type": "display_data",
          "data": {
            "image/png": "[encoded data removed]",
            "text/plain": [
              "<Figure size 432x288 with 1 Axes>"
            ]
          },
          "metadata": {
            "tags": []
          }
        }
      ]
    },
    {
      "cell_type": "markdown",
      "metadata": {
        "id": "GG0vhABKTBp5",
        "colab_type": "text"
      },
      "source": [
        "#### 使用GCN网络进行学习\n"
      ]
    },
    {
      "cell_type": "code",
      "metadata": {
        "colab_type": "code",
        "outputId": "842b5e03-51e1-40e3-eb10-a152ce81d4ab",
        "id": "ccmkoVextk7X",
        "colab": {
          "base_uri": "https://localhost:8080/",
          "height": 383
        }
      },
      "source": [
        "torch.manual_seed(SEED)\n",
        "# 输入dim=307\n",
        "input_dim_1 = 307\n",
        "# GCN dim=100\n",
        "input_dim_2 = 100\n",
        "weight_dim_2 = 31\n",
        "dropout_rate = 0.6\n",
        "batch_size = 128\n",
        "max_epochs = 10\n",
        "# 使用GCN做二分类\n",
        "model_1 = NeuralNetBinaryClassifier(\n",
        "    Model_1_network,\n",
        "    module__input_dim_1 = input_dim_1,\n",
        "    module__input_dim_2 = input_dim_2,    \n",
        "    module__weight_dim_2 = weight_dim_2,\n",
        "    module__dropout_rate = dropout_rate,\n",
        "    batch_size = batch_size,\n",
        "    max_epochs = max_epochs,\n",
        "    train_split = None,\n",
        "    optimizer = torch.optim.Adam,\n",
        "    iterator_train__shuffle = True,\n",
        "    device = 'cuda'\n",
        ")\n",
        "\n",
        "pipe = Pipeline([\n",
        "    ('model', model_1)\n",
        "])\n",
        "\n",
        "pipe.fit(X_train, y_train.astype(np.float))"
      ],
      "execution_count": 272,
      "outputs": [
        {
          "output_type": "stream",
          "text": [
            "  epoch    train_loss      dur\n",
            "-------  ------------  -------\n",
            "      1        \u001b[36m0.1694\u001b[0m  16.9032\n",
            "      2        \u001b[36m0.0458\u001b[0m  15.8949\n",
            "      3        \u001b[36m0.0379\u001b[0m  16.1111\n",
            "      4        \u001b[36m0.0319\u001b[0m  15.8425\n",
            "      5        \u001b[36m0.0290\u001b[0m  15.9813\n",
            "      6        \u001b[36m0.0285\u001b[0m  15.8594\n",
            "      7        \u001b[36m0.0266\u001b[0m  15.9151\n",
            "      8        \u001b[36m0.0240\u001b[0m  15.9196\n",
            "      9        0.0248  15.9263\n",
            "     10        \u001b[36m0.0232\u001b[0m  15.9795\n"
          ],
          "name": "stdout"
        },
        {
          "output_type": "execute_result",
          "data": {
            "text/plain": [
              "Pipeline(memory=None,\n",
              "         steps=[('model',\n",
              "                 <class 'skorch.classifier.NeuralNetBinaryClassifier'>[initialized](\n",
              "  module_=Model_1_network(\n",
              "    (gcn): GCN_network()\n",
              "    (dropout): Dropout(p=0.6, inplace=False)\n",
              "    (fc): Linear(in_features=9517, out_features=1, bias=True)\n",
              "  ),\n",
              "))],\n",
              "         verbose=False)"
            ]
          },
          "metadata": {
            "tags": []
          },
          "execution_count": 272
        }
      ]
    },
    {
      "cell_type": "code",
      "metadata": {
        "colab_type": "code",
        "id": "Zjv13-Mqtk7P",
        "colab": {
          "base_uri": "https://localhost:8080/",
          "height": 250
        },
        "outputId": "8ab6974b-e4cd-46ae-8f1c-f0f9b1384ed7"
      },
      "source": [
        "H_list_model_1.clear()\n",
        "\n",
        "X_test_predictions_2 = pipe.predict_proba(X_test)[:,1]\n",
        "model_evaluate(y_test, np.ones(len(y_test)))\n",
        "model_evaluate(y_test, X_test_predictions_2)"
      ],
      "execution_count": 273,
      "outputs": [
        {
          "output_type": "stream",
          "text": [
            "Confusion matrix\n",
            "[TN FP]\n",
            "[FN TP]\n",
            "[[    0   348]\n",
            " [    0 12815]]\n",
            "F1-Score: 0.9866\n",
            "ROC AUC: 0.5000\n",
            "Confusion matrix\n",
            "[TN FP]\n",
            "[FN TP]\n",
            "[[  210   138]\n",
            " [   15 12800]]\n",
            "F1-Score: 0.9941\n",
            "ROC AUC: 0.9737\n"
          ],
          "name": "stdout"
        }
      ]
    },
    {
      "cell_type": "code",
      "metadata": {
        "colab_type": "code",
        "id": "039RB_cMtk7L",
        "colab": {
          "base_uri": "https://localhost:8080/",
          "height": 264
        },
        "outputId": "1e09cc49-a392-45e1-a348-2bf3595a7f52"
      },
      "source": [
        "fpr_2, tpr_2, thresholds_2 = roc_curve(y_test, X_test_predictions_2)\n",
        "pyplot.plot([0, 1], [0, 1], linestyle='--')\n",
        "pyplot.plot(fpr_2, tpr_2)\n",
        "pyplot.show()"
      ],
      "execution_count": 274,
      "outputs": [
        {
          "output_type": "display_data",
          "data": {
            "image/png": "[encoded data removed]",
            "text/plain": [
              "<Figure size 432x288 with 1 Axes>"
            ]
          },
          "metadata": {
            "tags": []
          }
        }
      ]
    },
    {
      "cell_type": "code",
      "metadata": {
        "colab_type": "code",
        "id": "a1f4Sxittk6z",
        "colab": {
          "base_uri": "https://localhost:8080/",
          "height": 264
        },
        "outputId": "d733fc84-bfa5-4083-973f-c580bedf0733"
      },
      "source": [
        "result = torch.zeros(1, 9517)\n",
        "for i in H_list_model_1:\n",
        "    result = torch.cat([result, i.cpu()], 0)\n",
        "X_result = result.numpy()[1:]\n",
        "visualize_pca(X_result, y_test)"
      ],
      "execution_count": 275,
      "outputs": [
        {
          "output_type": "display_data",
          "data": {
            "image/png": "[encoded data removed]",
            "text/plain": [
              "<Figure size 432x288 with 1 Axes>"
            ]
          },
          "metadata": {
            "tags": []
          }
        }
      ]
    }
  ]
}